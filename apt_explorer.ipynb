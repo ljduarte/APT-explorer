{
 "cells": [
  {
   "cell_type": "markdown",
   "metadata": {},
   "source": [
    "# Atomic Polar Tensor Explorer"
   ]
  },
  {
   "cell_type": "markdown",
   "metadata": {},
   "source": [
    "**This script reads the EDIPOL file from the PLACZEK output and calculates all the atomic polar tensors. At the end, the derivatives are printed in an easy-to-read format.**"
   ]
  },
  {
   "cell_type": "markdown",
   "metadata": {},
   "source": [
    "Remember, you can use this notebook as a tutorial to make your own program or you can just run it using your EDIPOL file.\n",
    "Lets begin by impoting pandas to store our derivatives in DataFrames"
   ]
  },
  {
   "cell_type": "code",
   "execution_count": 15,
   "metadata": {},
   "outputs": [],
   "source": [
    "import pandas as pd"
   ]
  },
  {
   "cell_type": "markdown",
   "metadata": {},
   "source": [
    "Set the path to the EDIPOL file and open it using the *open* function. Remember to use *r* (read only) since you do not intend to modify the file. The *readlines()* method will transform your file in a list, where each entry is a line. "
   ]
  },
  {
   "cell_type": "code",
   "execution_count": 4,
   "metadata": {},
   "outputs": [],
   "source": [
    "file = 'MP2-EDIPOL'  # You can change the file path here\n",
    "f=open(file, 'r').readlines()"
   ]
  },
  {
   "cell_type": "markdown",
   "metadata": {},
   "source": [
    "\"f\" is a list containing all lines from EDIPOL. If you want to print the 19<sup>th</sup> for example: "
   ]
  },
  {
   "cell_type": "code",
   "execution_count": 16,
   "metadata": {},
   "outputs": [
    {
     "data": {
      "text/plain": [
       "' ATOMIC DIPOLE MOMENT =        0.157673466010      -0.091028311095       0.000000429715\\n'"
      ]
     },
     "execution_count": 16,
     "metadata": {},
     "output_type": "execute_result"
    }
   ],
   "source": [
    "f[18] #remember: Python is a zero index array language"
   ]
  },
  {
   "cell_type": "markdown",
   "metadata": {},
   "source": [
    "We need to initialize some lists, which will be used to store temporary data."
   ]
  },
  {
   "cell_type": "code",
   "execution_count": 5,
   "metadata": {},
   "outputs": [],
   "source": [
    "atom = []\n",
    "c = []\n",
    "mx = []\n",
    "my = []\n",
    "mz = []\n",
    "x = []\n",
    "y = []\n",
    "z = []"
   ]
  },
  {
   "cell_type": "markdown",
   "metadata": {},
   "source": [
    "The first line of EDIPOL contains the displacement value. To calculate the atomic polar tensor, each atom is displaced in the positive and negative direction of each Cartesian axis."
   ]
  },
  {
   "cell_type": "code",
   "execution_count": 6,
   "metadata": {},
   "outputs": [],
   "source": [
    "delta_r = float(f[0].split()[2])"
   ]
  },
  {
   "cell_type": "markdown",
   "metadata": {},
   "source": [
    "Next, read the atomic charges and dipoles from the equilibrium position. "
   ]
  },
  {
   "cell_type": "code",
   "execution_count": 6,
   "metadata": {},
   "outputs": [],
   "source": [
    "for line in f:\n",
    "    if 'EDIPOL-EQ-GEOM:' in line: # search for this keyword - start here\n",
    "        start = f.index(line)\n",
    "    if 'EDIPOL+' in line:   # next EDIPOL keyword  - end here\n",
    "        end = f.index(line)\n",
    "        break\n",
    "for i in range (start, end, 1):\n",
    "    if 'ATOM ' in f[i]:\n",
    "        atom.append(f[i].split()[1] + '_' + f[i].split()[2]) # read atoms' names and labels\n",
    "    if 'ATOMIC CHARGE =' in f[i]:\n",
    "        c.append(float(f[i].split()[3]))  # read atomic chages\n",
    "    if 'ATOMIC DIPOLE MOMENT =' in f[i]:\n",
    "        mx.append(float(f[i].split()[4])) # read atomic dipole in x\n",
    "        my.append(float(f[i].split()[5])) # read atomic dipole in y\n",
    "        mz.append(float(f[i].split()[6])) # read atomic dipole in z\n",
    " "
   ]
  },
  {
   "cell_type": "markdown",
   "metadata": {},
   "source": [
    "Now, we move the properties to a pandas DataFrame."
   ]
  },
  {
   "cell_type": "code",
   "execution_count": 7,
   "metadata": {},
   "outputs": [],
   "source": [
    "eq_prop = pd.DataFrame(columns=['charge', 'mx', 'my', 'mz'], index=atom)\n",
    "eq_prop['charge'] = c\n",
    "eq_prop['mx'] = mx #mx = atomic dipole in x direction\n",
    "eq_prop['my'] = my #my = atomic dipole in x direction\n",
    "eq_prop['mz'] = mz #mz = atomic dipole in x direction"
   ]
  },
  {
   "cell_type": "markdown",
   "metadata": {},
   "source": [
    "Lets read the atomic geometry. we need it to calculate the dipole from charges. \n",
    "Search for the \"MOLECULAR GEOMETRY\" keyword in the EDIPOL file. "
   ]
  },
  {
   "cell_type": "code",
   "execution_count": 8,
   "metadata": {},
   "outputs": [],
   "source": [
    "for line in f:\n",
    "    if 'MOLECULAR GEOMETRY' in line: #Keyword -- start here\n",
    "        start = f.index(line)\n",
    "\n",
    "for i in range(start+2, len(f), 1):\n",
    "    if len(f[i].split()) >= 3:\n",
    "        x.append(float(f[i].split()[1]))\n",
    "        y.append(float(f[i].split()[2]))\n",
    "        z.append(float(f[i].split()[3]))\n",
    "\n",
    "eq_geo = pd.DataFrame(columns=['x', 'y', 'z'], index=atom) #remember to create a dataframe\n",
    "eq_geo['x'] = x\n",
    "eq_geo['y'] = y\n",
    "eq_geo['z'] = z"
   ]
  },
  {
   "cell_type": "markdown",
   "metadata": {},
   "source": [
    "It's time to read the charges and dipole for the non-equilibrium geometries. for each of them, create a DataFrame and append it to a list, in which the elements are organized following:\n",
    "<ol start=\"0\">\n",
    " <li> Electronics properties from the geometry where **ATOM_1** is displaced in **+X** direction</li>\n",
    " <li> Electronics properties from the geometry where **ATOM_1** is displaced in **-X** direction</li>\n",
    " <li> Electronics properties from the geometry where **ATOM_1** is displaced in **+Y** direction</li>\n",
    " <li> Electronics properties from the geometry where **ATOM_1** is displaced in **-Y** direction</li>\n",
    " <li> Electronics properties from the geometry where **ATOM_1** is displaced in **+Z** direction</li>\n",
    " <li> Electronics properties from the geometry where **ATOM_1** is displaced in **-Z** direction</li>\n",
    " <li>. Electronics properties from the geometry where **ATOM_2** is displaced in **+X** direction</li>\n",
    " <li> ...</li>\n",
    "</ol>"
   ]
  },
  {
   "cell_type": "code",
   "execution_count": 9,
   "metadata": {},
   "outputs": [],
   "source": [
    "displaced_geo = []\n",
    "displacements = ['+X', '-X', '+Y', '-Y', '+Z', '-Z'] #List of displacements"
   ]
  },
  {
   "cell_type": "markdown",
   "metadata": {},
   "source": [
    "Read the properties the same way we did for the equilibrium geometry, just changing the keywords.  "
   ]
  },
  {
   "cell_type": "code",
   "execution_count": 10,
   "metadata": {},
   "outputs": [],
   "source": [
    "for a in atom:\n",
    "    for coord in displacements:\n",
    "        c = [] #reset the list at the beggining of each iteration\n",
    "        mx = []\n",
    "        my = []\n",
    "        mz = []       \n",
    "        for line in f:\n",
    "            if 'EDIPOL'+coord+a in line: # EDIPOL +/- X/Y/Z - Start here\n",
    "                start = f.index(line)\n",
    "        for i in range(start+2, start+2 + len(atom)*4):\n",
    "            if 'MONOPOLE' in f[i]: #Read the atomic MONOPOLE MOMENT (A.K.A. atomic CHARGE)\n",
    "                c.append(float(f[i].split()[3]))\n",
    "            if 'DIPOLE' in f[i]:\n",
    "                mx.append(float(f[i].split()[3]))\n",
    "                my.append(float(f[i].split()[4]))\n",
    "                mz.append(float(f[i].split()[5]))\n",
    "        \n",
    "        data = pd.DataFrame(columns=['charge', 'mx', 'my', 'mz'], index=atom) # Save to DataFrame \n",
    "        data['charge'] = c\n",
    "        data['mx'] = mx\n",
    "        data['my'] = my\n",
    "        data['mz'] = mz\n",
    "        displaced_geo.append(data) # Append DataFrame to lsit. "
   ]
  },
  {
   "cell_type": "markdown",
   "metadata": {},
   "source": [
    "We have collected all data we need to calculate the derivatives.\n",
    "### CALCULATING THE NUMERIAL DERIVATIVE ###\n",
    "for a property $n$, the numerical derivative is given by: $$\\frac{dn}{dr} = \\frac{n^+-n^-}{2*delta\\_r}$$ \n",
    "where $delta\\_r$ is the displacement value, $n^+$ and $n^-$ are the value of the property when the atom are displaced in the postive and negative direction of coordinate $r$\n",
    "\n",
    "### The dipole moment derivative ###\n",
    "Consider the dipolo moment of a molecule as:\n",
    "$$\\vec{\\rho} = \\rho_x\\hat{i} + \\rho_y\\hat{j} + \\rho_z\\hat{k}$$\n",
    "\n",
    "\n"
   ]
  },
  {
   "cell_type": "code",
   "execution_count": 11,
   "metadata": {},
   "outputs": [],
   "source": [
    "#calcular as derivadas, centralizando no carbono\n",
    "## centralizar no carbono\n",
    "geo_center = eq_geo-eq_geo.loc['C_1']\n",
    "d_temp= []\n",
    "for i in range(0, len(displaced_geo), 2):\n",
    "    temp = 0.529177*(displaced_geo[i] - displaced_geo[i+1])/(2*delta_r)\n",
    "    temp['charge_x'] = geo_center['x']*temp['charge']/0.529177\n",
    "    temp['charge_y'] = geo_center['y']*temp['charge']/0.529177\n",
    "    temp['charge_z'] = geo_center['z']*temp['charge']/0.529177\n",
    "    del temp['charge']\n",
    "    d_temp.append(temp)"
   ]
  },
  {
   "cell_type": "code",
   "execution_count": 12,
   "metadata": {},
   "outputs": [],
   "source": [
    "##Criar dicionario\n",
    "cart = ['X_', 'Y_', 'Z_']\n",
    "terms = [i+j for j in atom for i in cart]\n",
    "\n",
    "derivatives = {terms[i]:d_temp[i] for i in range(len(terms))}"
   ]
  },
  {
   "cell_type": "code",
   "execution_count": 14,
   "metadata": {},
   "outputs": [
    {
     "data": {
      "text/html": [
       "<div>\n",
       "<style scoped>\n",
       "    .dataframe tbody tr th:only-of-type {\n",
       "        vertical-align: middle;\n",
       "    }\n",
       "\n",
       "    .dataframe tbody tr th {\n",
       "        vertical-align: top;\n",
       "    }\n",
       "\n",
       "    .dataframe thead th {\n",
       "        text-align: right;\n",
       "    }\n",
       "</style>\n",
       "<table border=\"1\" class=\"dataframe\">\n",
       "  <thead>\n",
       "    <tr style=\"text-align: right;\">\n",
       "      <th></th>\n",
       "      <th>mx</th>\n",
       "      <th>my</th>\n",
       "      <th>mz</th>\n",
       "      <th>charge_x</th>\n",
       "      <th>charge_y</th>\n",
       "      <th>charge_z</th>\n",
       "    </tr>\n",
       "  </thead>\n",
       "  <tbody>\n",
       "    <tr>\n",
       "      <th>C_1</th>\n",
       "      <td>0.731196</td>\n",
       "      <td>0.000256</td>\n",
       "      <td>-0.033857</td>\n",
       "      <td>0.000000</td>\n",
       "      <td>0.000000</td>\n",
       "      <td>0.000000</td>\n",
       "    </tr>\n",
       "    <tr>\n",
       "      <th>H_2</th>\n",
       "      <td>-0.194712</td>\n",
       "      <td>-0.004699</td>\n",
       "      <td>-0.000450</td>\n",
       "      <td>0.000000</td>\n",
       "      <td>0.000000</td>\n",
       "      <td>0.001828</td>\n",
       "    </tr>\n",
       "    <tr>\n",
       "      <th>H_3</th>\n",
       "      <td>-0.051621</td>\n",
       "      <td>0.000005</td>\n",
       "      <td>0.000003</td>\n",
       "      <td>0.000000</td>\n",
       "      <td>-0.000037</td>\n",
       "      <td>0.000000</td>\n",
       "    </tr>\n",
       "    <tr>\n",
       "      <th>H_4</th>\n",
       "      <td>-0.033504</td>\n",
       "      <td>-0.010553</td>\n",
       "      <td>-0.000007</td>\n",
       "      <td>-0.303564</td>\n",
       "      <td>0.175263</td>\n",
       "      <td>0.000000</td>\n",
       "    </tr>\n",
       "    <tr>\n",
       "      <th>H_5</th>\n",
       "      <td>-0.033482</td>\n",
       "      <td>0.010531</td>\n",
       "      <td>0.000031</td>\n",
       "      <td>-0.303524</td>\n",
       "      <td>-0.175240</td>\n",
       "      <td>-0.000000</td>\n",
       "    </tr>\n",
       "    <tr>\n",
       "      <th>H_6</th>\n",
       "      <td>-0.199370</td>\n",
       "      <td>0.002112</td>\n",
       "      <td>0.000464</td>\n",
       "      <td>0.000000</td>\n",
       "      <td>0.000000</td>\n",
       "      <td>-0.002132</td>\n",
       "    </tr>\n",
       "  </tbody>\n",
       "</table>\n",
       "</div>"
      ],
      "text/plain": [
       "           mx        my        mz  charge_x  charge_y  charge_z\n",
       "C_1  0.731196  0.000256 -0.033857  0.000000  0.000000  0.000000\n",
       "H_2 -0.194712 -0.004699 -0.000450  0.000000  0.000000  0.001828\n",
       "H_3 -0.051621  0.000005  0.000003  0.000000 -0.000037  0.000000\n",
       "H_4 -0.033504 -0.010553 -0.000007 -0.303564  0.175263  0.000000\n",
       "H_5 -0.033482  0.010531  0.000031 -0.303524 -0.175240 -0.000000\n",
       "H_6 -0.199370  0.002112  0.000464  0.000000  0.000000 -0.002132"
      ]
     },
     "execution_count": 14,
     "metadata": {},
     "output_type": "execute_result"
    }
   ],
   "source": [
    "derivatives['X_C_1']"
   ]
  }
 ],
 "metadata": {
  "kernelspec": {
   "display_name": "Python 3",
   "language": "python",
   "name": "python3"
  },
  "language_info": {
   "codemirror_mode": {
    "name": "ipython",
    "version": 3
   },
   "file_extension": ".py",
   "mimetype": "text/x-python",
   "name": "python",
   "nbconvert_exporter": "python",
   "pygments_lexer": "ipython3",
   "version": "3.6.5"
  }
 },
 "nbformat": 4,
 "nbformat_minor": 2
}
